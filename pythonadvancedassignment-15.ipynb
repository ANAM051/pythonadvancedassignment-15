{
 "cells": [
  {
   "cell_type": "markdown",
   "id": "9ac66473",
   "metadata": {},
   "source": [
    "1. What are the new features added in Python 3.8 version?\n",
    "2. What is monkeypatching in Python?\n",
    "3. What is the difference between a shallow copy and deep copy?\n",
    "4. What is the maximum possible length of an identifier?\n",
    "5. What is generator comprehension?"
   ]
  },
  {
   "cell_type": "markdown",
   "id": "f6118ade",
   "metadata": {},
   "source": [
    "1.Positional-only parameters(/)\n",
    "  Assignment Expressions(:=) (aka walrus operator)\n",
    "  f-strings now support “=”\n",
    "  reversed() works with a dictionary\n",
    "  No parentheses for return and yield statements"
   ]
  },
  {
   "cell_type": "markdown",
   "id": "310c74e1",
   "metadata": {},
   "source": [
    "2.monkey patching is used to change the behaviour of code at runtime."
   ]
  },
  {
   "cell_type": "markdown",
   "id": "92b4aabc",
   "metadata": {},
   "source": [
    "3.shallow copy creates new object but doesnot create copies of nested objects,if you do some changes in nested objects it will show in original copy which is not good.Deep copy creates new object as well as copies of nested objects , if you do any changes in nested copies it will not show in original copy which is good. "
   ]
  },
  {
   "cell_type": "markdown",
   "id": "6759e788",
   "metadata": {},
   "source": [
    "4.Identifier is a name given to class,function, variable and other user defined objects.Maximum limit defined for identifier is 79 characters by PEP-8. "
   ]
  },
  {
   "cell_type": "markdown",
   "id": "db2e7751",
   "metadata": {},
   "source": [
    "5.Generator comprehension is similar to list comprehension ,a minor difference is list comprehension uses square bracket while generator comprehension uses cicular brackets.Generator comprehension do not store the entire list in a memory that's why they are memory efficient."
   ]
  },
  {
   "cell_type": "code",
   "execution_count": null,
   "id": "bece94d1",
   "metadata": {},
   "outputs": [],
   "source": []
  }
 ],
 "metadata": {
  "kernelspec": {
   "display_name": "Python 3 (ipykernel)",
   "language": "python",
   "name": "python3"
  },
  "language_info": {
   "codemirror_mode": {
    "name": "ipython",
    "version": 3
   },
   "file_extension": ".py",
   "mimetype": "text/x-python",
   "name": "python",
   "nbconvert_exporter": "python",
   "pygments_lexer": "ipython3",
   "version": "3.9.12"
  }
 },
 "nbformat": 4,
 "nbformat_minor": 5
}
